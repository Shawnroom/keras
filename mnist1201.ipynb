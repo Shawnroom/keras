{
 "cells": [
  {
   "cell_type": "code",
   "execution_count": 1,
   "metadata": {
    "collapsed": true
   },
   "outputs": [],
   "source": [
    "import os\n",
    "os.environ['KERAS_BACKEND']='tensorflow'\n",
    "from PIL import Image\n",
    "import numpy as np"
   ]
  },
  {
   "cell_type": "code",
   "execution_count": 2,
   "metadata": {
    "collapsed": true
   },
   "outputs": [],
   "source": [
    "def load_data():\n",
    "    data = np.empty((42000,1,28,28),dtype=\"float32\")\n",
    "    label = np.empty((42000,),dtype=\"uint8\")\n",
    "\n",
    "    imgs = os.listdir(\"/home/keras/Desktop/keras/mnist\")\n",
    "    num = len(imgs)  # 42000\n",
    "    for i in range(num):\n",
    "        img = Image.open(\"/home/keras/Desktop/keras/mnist/\"+imgs[i])\n",
    "        arr = np.asarray(img,dtype=\"float32\")\n",
    "        data[i,:,:,:] = arr\n",
    "        label[i] = int(imgs[i].split('.')[0])\n",
    "    return data,label"
   ]
  },
  {
   "cell_type": "code",
   "execution_count": 3,
   "metadata": {
    "collapsed": false
   },
   "outputs": [
    {
     "name": "stderr",
     "output_type": "stream",
     "text": [
      "Using TensorFlow backend.\n"
     ]
    }
   ],
   "source": [
    "from __future__ import absolute_import\n",
    "from __future__ import print_function\n",
    "from keras.preprocessing.image import ImageDataGenerator\n",
    "from keras.models import Sequential\n",
    "from keras.layers.core import Dense, Dropout, Activation, Flatten\n",
    "from keras.layers.advanced_activations import PReLU\n",
    "from keras.layers.convolutional import Convolution2D, MaxPooling2D\n",
    "from keras.optimizers import SGD, Adadelta, Adagrad,Adam\n",
    "from keras.utils import np_utils, generic_utils\n",
    "from six.moves import range\n",
    "import random\n",
    "np.random.seed(1024) "
   ]
  },
  {
   "cell_type": "code",
   "execution_count": 4,
   "metadata": {
    "collapsed": false
   },
   "outputs": [
    {
     "name": "stdout",
     "output_type": "stream",
     "text": [
      "42000  samples\n"
     ]
    }
   ],
   "source": [
    "X_data, Y_data  = load_data()\n",
    "# 打亂資料\n",
    "index = [i for i in range(len(X_data))]\n",
    "random.shuffle(index)\n",
    "X_data = X_data[index]\n",
    "Y_data = Y_data[index]\n",
    "print(X_data.shape[0], ' samples')"
   ]
  },
  {
   "cell_type": "code",
   "execution_count": 5,
   "metadata": {
    "collapsed": true
   },
   "outputs": [],
   "source": [
    "X_train, X_test = X_data[:30000,:,:,:], X_data[30000:,:,:,:]\n",
    "Y_train, Y_test = Y_data[:30000,], Y_data[30000:,]\n"
   ]
  },
  {
   "cell_type": "code",
   "execution_count": 6,
   "metadata": {
    "collapsed": false
   },
   "outputs": [],
   "source": [
    "# input image dimensions\n",
    "img_rows = X_train.shape[2]\n",
    "img_cols = X_train.shape[3]\n",
    "X_train = X_train.reshape(X_train.shape[0], img_rows, img_cols, 1 )\n",
    "X_test = X_test.reshape(X_test.shape[0], img_rows, img_cols, 1 )\n",
    "input_shape = (img_rows, img_cols, 1)\n",
    "\n",
    "Y_train = np_utils.to_categorical(Y_train, 10)\n",
    "Y_test = np_utils.to_categorical(Y_test, 10)"
   ]
  },
  {
   "cell_type": "code",
   "execution_count": 14,
   "metadata": {
    "collapsed": false
   },
   "outputs": [],
   "source": [
    "# 建造模型架構\n",
    "\n",
    "model = Sequential()\n",
    "model.add(Convolution2D(4, 5, 5,   # 4個filter,每個filter大小為5*5\n",
    "          border_mode='valid',     # 不使用zero-padding\n",
    "          subsample = (1,1),       # stride預設為1\n",
    "          input_shape = input_shape))\n",
    "\n",
    "model.add(Activation('relu'))      # activation function\n",
    "\n",
    "model.add(Convolution2D(8, 3, 3,   # 8個filter,每個filter大小為3*3\n",
    "          border_mode='same'))     # 使用zero-padding (須轉換backend為tensorflow,或安裝BLAS library)  \n",
    "\n",
    "model.add(Activation('relu'))\n",
    "\n",
    "model.add(MaxPooling2D(pool_size=(2, 2)))  # filter大小為2*2\n",
    "\n",
    "model.add(Convolution2D(16, 3, 3, border_mode='valid')) \n",
    "\n",
    "model.add(Activation('relu'))\n",
    "\n",
    "model.add(MaxPooling2D(pool_size=(2, 2)))\n",
    "\n",
    "model.add(Flatten())\n",
    "model.add(Dense(128, init='normal'))  #fully-connected layer\n",
    "model.add(Activation('relu'))\n",
    "model.add(Dense(10, init='normal'))\n",
    "model.add(Activation('softmax'))"
   ]
  },
  {
   "cell_type": "code",
   "execution_count": 15,
   "metadata": {
    "collapsed": true
   },
   "outputs": [],
   "source": [
    "# 定義什麼叫做學的好\n",
    "\n",
    "sgd = SGD(lr=0.05,        # learning rate\n",
    "          decay=1e-6,     # learning rate衰減的速度\n",
    "          momentum=0.9)   # 慣性動能\n",
    "\n",
    "model.compile(loss='categorical_crossentropy', # cost function\n",
    "              optimizer='adam', # gradient decent method\n",
    "              metrics=[\"accuracy\"])"
   ]
  },
  {
   "cell_type": "code",
   "execution_count": 16,
   "metadata": {
    "collapsed": false
   },
   "outputs": [
    {
     "name": "stdout",
     "output_type": "stream",
     "text": [
      "Train on 24000 samples, validate on 6000 samples\n",
      "Epoch 1/10\n",
      "24000/24000 [==============================] - 30s - loss: 0.4474 - acc: 0.8796 - val_loss: 0.1265 - val_acc: 0.9623\n",
      "Epoch 2/10\n",
      "24000/24000 [==============================] - 32s - loss: 0.1071 - acc: 0.9668 - val_loss: 0.1080 - val_acc: 0.9677\n",
      "Epoch 3/10\n",
      "24000/24000 [==============================] - 27s - loss: 0.0686 - acc: 0.9780 - val_loss: 0.0877 - val_acc: 0.9765\n",
      "Epoch 4/10\n",
      "24000/24000 [==============================] - 18s - loss: 0.0516 - acc: 0.9832 - val_loss: 0.1021 - val_acc: 0.9727\n",
      "Epoch 5/10\n",
      "24000/24000 [==============================] - 18s - loss: 0.0432 - acc: 0.9865 - val_loss: 0.1204 - val_acc: 0.9720\n",
      "Epoch 6/10\n",
      "24000/24000 [==============================] - 17s - loss: 0.0438 - acc: 0.9858 - val_loss: 0.1200 - val_acc: 0.9707\n",
      "Epoch 7/10\n",
      "24000/24000 [==============================] - 17s - loss: 0.0285 - acc: 0.9912 - val_loss: 0.1096 - val_acc: 0.9760\n",
      "Epoch 8/10\n",
      "24000/24000 [==============================] - 17s - loss: 0.0280 - acc: 0.9912 - val_loss: 0.1081 - val_acc: 0.9747\n",
      "Epoch 9/10\n",
      "24000/24000 [==============================] - 17s - loss: 0.0376 - acc: 0.9882 - val_loss: 0.1149 - val_acc: 0.9773\n",
      "Epoch 10/10\n",
      "24000/24000 [==============================] - 18s - loss: 0.0310 - acc: 0.9912 - val_loss: 0.1036 - val_acc: 0.9793\n"
     ]
    },
    {
     "data": {
      "text/plain": [
       "<keras.callbacks.History at 0x7f7655fee790>"
      ]
     },
     "execution_count": 16,
     "metadata": {},
     "output_type": "execute_result"
    }
   ],
   "source": [
    "# 訓練 找出最佳解\n",
    "\n",
    "model.fit(X_train, Y_train,\n",
    "          batch_size=100, # 100張圖為一組\n",
    "          nb_epoch=10,    # 訓練10輪\n",
    "          shuffle=True,verbose=1,\n",
    "          validation_split=0.2,  # 5折交叉驗證\n",
    "          show_accuracy=True)"
   ]
  },
  {
   "cell_type": "code",
   "execution_count": 17,
   "metadata": {
    "collapsed": false
   },
   "outputs": [
    {
     "name": "stdout",
     "output_type": "stream",
     "text": [
      "12000/12000 [==============================] - 8s     \n",
      "Test score: 0.104586125199\n",
      "Test accuracy: 0.980333333333\n"
     ]
    }
   ],
   "source": [
    "# testing\n",
    "\n",
    "score = model.evaluate(X_test, Y_test)\n",
    "print('Test score:', score[0])\n",
    "print('Test accuracy:', score[1])"
   ]
  },
  {
   "cell_type": "code",
   "execution_count": 11,
   "metadata": {
    "collapsed": true
   },
   "outputs": [],
   "source": [
    "# save model weights\n",
    "\n",
    "'''\n",
    "WEIGHTS_FILEPATH = '/home/keras/Desktop/keras/mnist_cnn.hdf5'\n",
    "MODEL_ARCH_FILEPATH = '/home/keras/Desktop/keras/mnist_cnn.json'\n",
    "\n",
    "with open(MODEL_ARCH_FILEPATH, 'w') as f:\n",
    "    f.write(model.to_json())\n",
    "    \n",
    "model.save_weights('/home/keras/Desktop/keras/mnist_cnn.hdf5')\n",
    "'''"
   ]
  },
  {
   "cell_type": "code",
   "execution_count": null,
   "metadata": {
    "collapsed": true
   },
   "outputs": [],
   "source": []
  }
 ],
 "metadata": {
  "kernelspec": {
   "display_name": "Python 2",
   "language": "python",
   "name": "python2"
  },
  "language_info": {
   "codemirror_mode": {
    "name": "ipython",
    "version": 2
   },
   "file_extension": ".py",
   "mimetype": "text/x-python",
   "name": "python",
   "nbconvert_exporter": "python",
   "pygments_lexer": "ipython2",
   "version": "2.7.12"
  }
 },
 "nbformat": 4,
 "nbformat_minor": 1
}
